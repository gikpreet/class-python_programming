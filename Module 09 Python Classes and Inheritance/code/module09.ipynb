{
 "cells": [
  {
   "cell_type": "code",
   "execution_count": 1,
   "metadata": {},
   "outputs": [],
   "source": [
    "class Animal(object):\n",
    "    def __init__(self, age):\n",
    "        self.age = age\n",
    "        self.name = None\n",
    "    \n",
    "    def get_age(self):\n",
    "        return self.age\n",
    "\n",
    "    def get_name(self):\n",
    "        return self.name\n",
    "    \n",
    "    def set_age(self, newage):\n",
    "        self.age = newage\n",
    "    \n",
    "    def set_name(self, newname=\"\"):\n",
    "        self.name = newname\n",
    "    \n",
    "    def __str__(self):\n",
    "        return \"animal: \" + str(self.name) + \": \" + str(self.age)"
   ]
  },
  {
   "cell_type": "code",
   "execution_count": 2,
   "metadata": {},
   "outputs": [],
   "source": [
    "class Person(Animal):\n",
    "    def __init__(self, name, age):\n",
    "        Animal.__init__(self, age)\n",
    "        self.set_name(name)\n",
    "        self.friends = []\n",
    "    \n",
    "    def get_friends(self):\n",
    "        return self.friends\n",
    "    \n",
    "    def add_friends(self, fname):\n",
    "        if fname not in self.friends:\n",
    "            self.friends.append(fname)\n",
    "    \n",
    "    def speak(self):\n",
    "        print(\"hello\")\n",
    "    \n",
    "    \n",
    "    def age_diff(self, other):\n",
    "        diff = self.age - other.age\n",
    "        print(abs(diff), \"year difference\")\n",
    "    \n",
    "    def __str__(self):\n",
    "        return \"person: \" + str(self.name) + \": \" + str(self.age)"
   ]
  },
  {
   "cell_type": "code",
   "execution_count": 4,
   "metadata": {},
   "outputs": [],
   "source": [
    "import random\n",
    "\n",
    "class Student(Person):\n",
    "    def __init__(self, name, age, major=None):\n",
    "        Person.__init__(self, name, age)\n",
    "        self.major = major\n",
    "    \n",
    "    def change_major(self, major):\n",
    "        self.major = major\n",
    "    \n",
    "    def speak(self):\n",
    "        r = random.random()\n",
    "        if r < 0.25:\n",
    "            print(\"i have homework\")\n",
    "        elif 0.25 <= r < 0.5:\n",
    "            print(\"i need sleep\")\n",
    "        elif 0.5 <= r < 0.75:\n",
    "            print(\"i should eat\")\n",
    "        else:\n",
    "            print(\"i am watching TV\")\n",
    "    \n",
    "    def __str__(self):\n",
    "        return \"student: \" + str(self.name) + \": \" + str(self.age) + \": \" + str(self.major)"
   ]
  },
  {
   "cell_type": "code",
   "execution_count": 6,
   "metadata": {},
   "outputs": [],
   "source": [
    "class Rabbit(Animal):\n",
    "    tag = 1\n",
    "    def __init__(self, age, parent1=None, parent2=None):\n",
    "        Animal.__init__(self, age)\n",
    "        self.parent1 = parent1\n",
    "        self.parent2 = parent2\n",
    "        self.rid = Rabbit.tag\n",
    "        Rabbit.tag += 1\n",
    "    \n",
    "    def get_rid(self):\n",
    "        return str(self.rid).zfill(3)\n",
    "    \n",
    "    def get_parent1(self):\n",
    "        return self.parent1\n",
    "    \n",
    "    def get_parenrt2(self):\n",
    "        return self.parent2\n",
    "    \n",
    "    def __eq__(self, other):\n",
    "        parents_same =  self.parent1.rid == other.parent1.rid and self.parent2.rid == other.parent2.rid     # boolean\n",
    "        parents_opposite = self.parent2.rid == other.parent1.rid and self.parent1.rod == other.parent2.rid   # boolean\n",
    "        return parents_same or parents_opposite\n",
    "        \n",
    "        "
   ]
  },
  {
   "cell_type": "code",
   "execution_count": null,
   "metadata": {},
   "outputs": [],
   "source": []
  }
 ],
 "metadata": {
  "kernelspec": {
   "display_name": "Python 3",
   "language": "python",
   "name": "python3"
  },
  "language_info": {
   "codemirror_mode": {
    "name": "ipython",
    "version": 3
   },
   "file_extension": ".py",
   "mimetype": "text/x-python",
   "name": "python",
   "nbconvert_exporter": "python",
   "pygments_lexer": "ipython3",
   "version": "3.9.13"
  },
  "orig_nbformat": 4
 },
 "nbformat": 4,
 "nbformat_minor": 2
}
