{
 "cells": [
  {
   "cell_type": "code",
   "execution_count": null,
   "metadata": {},
   "outputs": [],
   "source": [
    "def sqrt(x, eps):\n",
    "    \"\"\" x, eps floats, x >= 0, eps > 0 이라고 가정\n",
    "    Returns res such that -x-eps <= res*res <= x+ eps \"\"\""
   ]
  }
 ],
 "metadata": {
  "language_info": {
   "name": "python"
  },
  "orig_nbformat": 4
 },
 "nbformat": 4,
 "nbformat_minor": 2
}
