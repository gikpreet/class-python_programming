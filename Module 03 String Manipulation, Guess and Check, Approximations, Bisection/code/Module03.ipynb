{
 "cells": [
  {
   "cell_type": "code",
   "execution_count": 6,
   "metadata": {},
   "outputs": [
    {
     "data": {
      "text/plain": [
       "'a'"
      ]
     },
     "execution_count": 6,
     "metadata": {},
     "output_type": "execute_result"
    }
   ],
   "source": [
    "s = \"abc\"\n",
    "\n",
    "s[0]\n",
    "s[1]\n",
    "s[2]\n",
    "#s[20]\n",
    "s[-1]\n",
    "s[-2]\n",
    "s[-3]"
   ]
  },
  {
   "cell_type": "code",
   "execution_count": 12,
   "metadata": {},
   "outputs": [
    {
     "data": {
      "text/plain": [
       "'ec'"
      ]
     },
     "execution_count": 12,
     "metadata": {},
     "output_type": "execute_result"
    }
   ],
   "source": [
    "s = \"abcdefgh\"\n",
    "s[3:6]\n",
    "s[3:6:2]\n",
    "s[::]\n",
    "s[::-1]\n",
    "s[4:1:-2] "
   ]
  },
  {
   "cell_type": "code",
   "execution_count": 1,
   "metadata": {},
   "outputs": [],
   "source": [
    "s = \"abcdefgh\"\n",
    "\n",
    "for index in range(len(s)):\n",
    "    if s[index] == 'i' or s[index] == 'u':\n",
    "        print(\"There is an i or u\")"
   ]
  },
  {
   "cell_type": "code",
   "execution_count": 2,
   "metadata": {},
   "outputs": [],
   "source": [
    "for char in s:\n",
    "    if char == 'i' or char == 'u':\n",
    "        print(\"There is an i or u\")"
   ]
  },
  {
   "cell_type": "code",
   "execution_count": 5,
   "metadata": {},
   "outputs": [
    {
     "name": "stdout",
     "output_type": "stream",
     "text": [
      "common letter\n",
      "common letter\n",
      "common letter\n",
      "common letter\n",
      "common letter\n",
      "common letter\n",
      "common letter\n"
     ]
    }
   ],
   "source": [
    "s1 = \"mit u rock\"\n",
    "s2 = \"i rule mit\"\n",
    "\n",
    "if len(s1) == len(s2):\n",
    "    for char1 in s1:\n",
    "        for char2 in s2:\n",
    "            if char1 == char2:\n",
    "                print(\"common letter\")\n",
    "                break"
   ]
  },
  {
   "cell_type": "code",
   "execution_count": 23,
   "metadata": {},
   "outputs": [],
   "source": [
    "cube = 9\n",
    "for guess in range(cube + 1):\n",
    "    if guess**3 == cube:\n",
    "        print(\"Cube root of\", cube, \"is\", guess)"
   ]
  },
  {
   "cell_type": "code",
   "execution_count": 21,
   "metadata": {},
   "outputs": [
    {
     "name": "stdout",
     "output_type": "stream",
     "text": [
      "Cube root of 9 is 3\n"
     ]
    }
   ],
   "source": [
    "cube = 9\n",
    "for guess in range(abs(cube) + 1):\n",
    "    if guess**3 >= abs(cube):\n",
    "        break\n",
    "if guess**3 == abs(cube):\n",
    "    print(cube, 'is not a perfect cube')\n",
    "else:\n",
    "    if cube < 0:\n",
    "        guess = -guess\n",
    "    print('Cube root of ' + str(cube) + ' is ' + str(guess))"
   ]
  },
  {
   "cell_type": "code",
   "execution_count": 28,
   "metadata": {},
   "outputs": [
    {
     "ename": "KeyboardInterrupt",
     "evalue": "",
     "output_type": "error",
     "traceback": [
      "\u001b[1;31m---------------------------------------------------------------------------\u001b[0m",
      "\u001b[1;31mKeyboardInterrupt\u001b[0m                         Traceback (most recent call last)",
      "\u001b[1;32md:\\07 강의자료\\class-python_programming\\Module 03 String Manipulation, Guess and Check, Approximations, Bisection\\code\\Module03.ipynb 셀 8\u001b[0m line \u001b[0;36m<cell line: 9>\u001b[1;34m()\u001b[0m\n\u001b[0;32m      <a href='vscode-notebook-cell:/d%3A/07%20%EA%B0%95%EC%9D%98%EC%9E%90%EB%A3%8C/class-python_programming/Module%2003%20String%20Manipulation%2C%20Guess%20and%20Check%2C%20Approximations%2C%20Bisection/code/Module03.ipynb#X10sZmlsZQ%3D%3D?line=5'>6</a>\u001b[0m increment \u001b[39m=\u001b[39m \u001b[39m0.0001\u001b[39m\n\u001b[0;32m      <a href='vscode-notebook-cell:/d%3A/07%20%EA%B0%95%EC%9D%98%EC%9E%90%EB%A3%8C/class-python_programming/Module%2003%20String%20Manipulation%2C%20Guess%20and%20Check%2C%20Approximations%2C%20Bisection/code/Module03.ipynb#X10sZmlsZQ%3D%3D?line=6'>7</a>\u001b[0m num_guesses \u001b[39m=\u001b[39m \u001b[39m0\u001b[39m\n\u001b[1;32m----> <a href='vscode-notebook-cell:/d%3A/07%20%EA%B0%95%EC%9D%98%EC%9E%90%EB%A3%8C/class-python_programming/Module%2003%20String%20Manipulation%2C%20Guess%20and%20Check%2C%20Approximations%2C%20Bisection/code/Module03.ipynb#X10sZmlsZQ%3D%3D?line=8'>9</a>\u001b[0m \u001b[39mwhile\u001b[39;00m \u001b[39mabs\u001b[39m(guess\u001b[39m*\u001b[39m\u001b[39m*\u001b[39m\u001b[39m3\u001b[39m \u001b[39m-\u001b[39m cube) \u001b[39m>\u001b[39m\u001b[39m=\u001b[39m epsilon \u001b[39mand\u001b[39;00m guess \u001b[39m<\u001b[39;49m\u001b[39m=\u001b[39;49m cube:\n\u001b[0;32m     <a href='vscode-notebook-cell:/d%3A/07%20%EA%B0%95%EC%9D%98%EC%9E%90%EB%A3%8C/class-python_programming/Module%2003%20String%20Manipulation%2C%20Guess%20and%20Check%2C%20Approximations%2C%20Bisection/code/Module03.ipynb#X10sZmlsZQ%3D%3D?line=9'>10</a>\u001b[0m     guess \u001b[39m+\u001b[39m\u001b[39m=\u001b[39m increment\n\u001b[0;32m     <a href='vscode-notebook-cell:/d%3A/07%20%EA%B0%95%EC%9D%98%EC%9E%90%EB%A3%8C/class-python_programming/Module%2003%20String%20Manipulation%2C%20Guess%20and%20Check%2C%20Approximations%2C%20Bisection/code/Module03.ipynb#X10sZmlsZQ%3D%3D?line=10'>11</a>\u001b[0m     num_guesses \u001b[39m+\u001b[39m\u001b[39m=\u001b[39m \u001b[39m1\u001b[39m\n",
      "\u001b[1;31mKeyboardInterrupt\u001b[0m: "
     ]
    }
   ],
   "source": [
    "cube = 27\n",
    "cube = 8120601\n",
    "cube = 10000\n",
    "epsilon = 0.01\n",
    "guess = 0.0\n",
    "increment = 0.0001\n",
    "num_guesses = 0\n",
    "\n",
    "while abs(guess**3 - cube) >= epsilon and guess <= cube:\n",
    "    guess += increment\n",
    "    num_guesses += 1\n",
    "\n",
    "print('num_guesses = ', num_guesses)\n",
    "\n",
    "if abs(guess**3 - cube) >= epsilon:\n",
    "    print('Failed on cobe root of', cube)\n",
    "else:\n",
    "    print(guess, 'us close to the cube root of', cube)"
   ]
  },
  {
   "cell_type": "code",
   "execution_count": 34,
   "metadata": {},
   "outputs": [
    {
     "name": "stdout",
     "output_type": "stream",
     "text": [
      "num_guess = 23428183\n",
      "3.000091552734375 is close to the cobe root of 27\n"
     ]
    }
   ],
   "source": [
    "cube = 27\n",
    "epsilon = 0.01\n",
    "num_glasses = 0\n",
    "low = 0\n",
    "high = cube\n",
    "guess = (high + low) / 2.0\n",
    "\n",
    "while abs(guess**3 - cube) >= epsilon:\n",
    "    if guess**3 < cube:\n",
    "        low = guess\n",
    "    else:\n",
    "        high = guess\n",
    "    guess = (high + low) / 2.0\n",
    "    num_guesses += 1\n",
    "print('num_guess =', num_guesses)\n",
    "print(guess, 'is close to the cobe root of', cube)"
   ]
  },
  {
   "cell_type": "code",
   "execution_count": null,
   "metadata": {},
   "outputs": [],
   "source": []
  }
 ],
 "metadata": {
  "kernelspec": {
   "display_name": "Python 3",
   "language": "python",
   "name": "python3"
  },
  "language_info": {
   "codemirror_mode": {
    "name": "ipython",
    "version": 3
   },
   "file_extension": ".py",
   "mimetype": "text/x-python",
   "name": "python",
   "nbconvert_exporter": "python",
   "pygments_lexer": "ipython3",
   "version": "3.10.11"
  },
  "orig_nbformat": 4
 },
 "nbformat": 4,
 "nbformat_minor": 2
}
