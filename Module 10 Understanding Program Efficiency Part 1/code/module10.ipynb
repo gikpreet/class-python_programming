{
 "cells": [
  {
   "cell_type": "code",
   "execution_count": 7,
   "metadata": {},
   "outputs": [
    {
     "name": "stdout",
     "output_type": "stream",
     "text": [
      "t =  1.310080629 : 5.378100000008601e-05 s, \n"
     ]
    }
   ],
   "source": [
    "import time\n",
    "\n",
    "def c_to_f(c):\n",
    "    return c * 9 / 5 + 32\n",
    "\n",
    "t0 = time.process_time()\n",
    "c_to_f(100000)\n",
    "t1 = time.process_time() - t0\n",
    "\n",
    "print(\"t = \", t0, \":\", t1, \"s, \")"
   ]
  },
  {
   "cell_type": "code",
   "execution_count": 8,
   "metadata": {},
   "outputs": [
    {
     "name": "stdout",
     "output_type": "stream",
     "text": [
      "t =  41567.633178935 : 4.4164000428281724e-05 s, \n"
     ]
    }
   ],
   "source": [
    "import time\n",
    "\n",
    "def c_to_f(c):\n",
    "    return c * 9 / 5 + 32\n",
    "\n",
    "t0 = time.perf_counter()\n",
    "c_to_f(100000)\n",
    "t1 = time.perf_counter() - t0\n",
    "\n",
    "print(\"t = \", t0, \":\", t1, \"s, \")"
   ]
  },
  {
   "cell_type": "code",
   "execution_count": 2,
   "metadata": {},
   "outputs": [],
   "source": [
    "def c_to_f(c):\n",
    "    return c * 9 / 5 * 32   # 3 ops\n",
    "\n",
    "def mysum(x):\n",
    "    total = 0   # 1 op\n",
    "    for i in range(x + 1):  # loop x times, (x + 1) 에서 1 op\n",
    "        total += 1          # 1 op    \n",
    "    return total"
   ]
  },
  {
   "cell_type": "code",
   "execution_count": 1,
   "metadata": {},
   "outputs": [],
   "source": [
    "def search_for_elmt(L, e):\n",
    "    for i in L:\n",
    "        if i == e:\n",
    "            return True\n",
    "    return False"
   ]
  },
  {
   "cell_type": "code",
   "execution_count": null,
   "metadata": {},
   "outputs": [],
   "source": []
  }
 ],
 "metadata": {
  "kernelspec": {
   "display_name": "base",
   "language": "python",
   "name": "python3"
  },
  "language_info": {
   "codemirror_mode": {
    "name": "ipython",
    "version": 3
   },
   "file_extension": ".py",
   "mimetype": "text/x-python",
   "name": "python",
   "nbconvert_exporter": "python",
   "pygments_lexer": "ipython3",
   "version": "3.11.3"
  },
  "orig_nbformat": 4
 },
 "nbformat": 4,
 "nbformat_minor": 2
}
