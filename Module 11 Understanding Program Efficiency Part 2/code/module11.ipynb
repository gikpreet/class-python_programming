{
 "cells": [
  {
   "cell_type": "code",
   "execution_count": null,
   "metadata": {},
   "outputs": [],
   "source": [
    "def bisect_search1(L, e):\n",
    "    if L == []:         # constant O(1)\n",
    "        return False\n",
    "    elif len(L) == 1:   # constant O(1)\n",
    "        return L[0] == e\n",
    "    else:\n",
    "        half = len(L) // 2  # constant O(1)\n",
    "        if L[half] > e:\n",
    "            return bisect_search1(L[:half], e)  # not constant\n",
    "        else:\n",
    "            return bisect_search1(L[half:], e)  # not constant"
   ]
  }
 ],
 "metadata": {
  "language_info": {
   "name": "python"
  }
 },
 "nbformat": 4,
 "nbformat_minor": 2
}
